{
 "cells": [
  {
   "cell_type": "markdown",
   "id": "f86d4f82",
   "metadata": {},
   "source": [
    "RANDOM CHROMOSOME GENERATION"
   ]
  },
  {
   "cell_type": "code",
   "execution_count": 4,
   "id": "e145e609",
   "metadata": {},
   "outputs": [
    {
     "name": "stdout",
     "output_type": "stream",
     "text": [
      "Generated Population:\n",
      "1: ['D', 'I', 'H', 'B', 'G', 'F', 'C', 'E', 'A']\n",
      "2: ['A', 'E', 'C', 'F', 'D', 'B', 'I', 'H', 'G']\n",
      "3: ['D', 'E', 'A', 'H', 'F', 'C', 'I', 'G', 'B']\n",
      "4: ['H', 'C', 'D', 'G', 'E', 'I', 'B', 'A', 'F']\n",
      "5: ['C', 'A', 'I', 'G', 'F', 'E', 'D', 'H', 'B']\n",
      "6: ['C', 'H', 'E', 'D', 'I', 'G', 'F', 'B', 'A']\n",
      "7: ['G', 'C', 'B', 'H', 'D', 'A', 'E', 'I', 'F']\n",
      "8: ['F', 'E', 'A', 'I', 'C', 'D', 'G', 'B', 'H']\n",
      "9: ['D', 'I', 'H', 'C', 'A', 'F', 'E', 'G', 'B']\n",
      "10: ['G', 'E', 'D', 'I', 'F', 'H', 'C', 'A', 'B']\n",
      "11: ['F', 'D', 'A', 'B', 'C', 'H', 'I', 'G', 'E']\n",
      "12: ['E', 'A', 'H', 'F', 'D', 'B', 'G', 'I', 'C']\n",
      "13: ['A', 'G', 'I', 'C', 'B', 'F', 'D', 'E', 'H']\n",
      "14: ['F', 'E', 'H', 'A', 'G', 'C', 'D', 'I', 'B']\n",
      "15: ['G', 'F', 'I', 'B', 'A', 'H', 'C', 'E', 'D']\n",
      "16: ['H', 'A', 'D', 'B', 'G', 'F', 'E', 'C', 'I']\n",
      "17: ['E', 'I', 'G', 'A', 'B', 'C', 'F', 'H', 'D']\n",
      "18: ['H', 'G', 'B', 'E', 'D', 'C', 'F', 'I', 'A']\n",
      "19: ['E', 'F', 'A', 'G', 'H', 'C', 'B', 'I', 'D']\n",
      "20: ['B', 'C', 'H', 'F', 'G', 'I', 'D', 'A', 'E']\n",
      "21: ['H', 'C', 'E', 'A', 'G', 'F', 'I', 'B', 'D']\n",
      "22: ['B', 'I', 'F', 'H', 'E', 'G', 'D', 'C', 'A']\n",
      "23: ['C', 'F', 'H', 'E', 'I', 'D', 'A', 'B', 'G']\n",
      "24: ['B', 'H', 'A', 'E', 'D', 'F', 'C', 'I', 'G']\n",
      "25: ['D', 'A', 'C', 'G', 'B', 'F', 'I', 'E', 'H']\n",
      "26: ['I', 'A', 'G', 'E', 'D', 'B', 'F', 'H', 'C']\n",
      "27: ['C', 'F', 'G', 'B', 'A', 'D', 'H', 'E', 'I']\n",
      "28: ['C', 'D', 'I', 'H', 'E', 'F', 'B', 'G', 'A']\n",
      "29: ['D', 'A', 'F', 'E', 'C', 'G', 'H', 'B', 'I']\n",
      "30: ['B', 'G', 'H', 'I', 'E', 'C', 'F', 'D', 'A']\n"
     ]
    }
   ],
   "source": [
    "import random\n",
    "\n",
    "# Departments including facility 'I'\n",
    "machines = ['A', 'B', 'C', 'D', 'E', 'F', 'G', 'H', 'I']\n",
    "population = []\n",
    "\n",
    "def generate_population():\n",
    "    for _ in range(30):  # assuming population size is 30\n",
    "        chromosome = machines.copy()\n",
    "        random.shuffle(chromosome)\n",
    "        population.append(chromosome)\n",
    "    return population\n",
    "\n",
    "# Call the function to generate the population\n",
    "generated_population = generate_population()\n",
    "print(\"Generated Population:\")\n",
    "for i, chromosome in enumerate(generated_population, start=1):\n",
    "    print(f\"{i}: {chromosome}\")"
   ]
  },
  {
   "cell_type": "markdown",
   "id": "bef03fac",
   "metadata": {},
   "source": [
    "OBJECTIVE FUNCTION"
   ]
  },
  {
   "cell_type": "code",
   "execution_count": 5,
   "id": "b336ee62",
   "metadata": {},
   "outputs": [
    {
     "name": "stdout",
     "output_type": "stream",
     "text": [
      "Total Cost: 3988713375.0\n"
     ]
    }
   ],
   "source": [
    "# Objective function for a facility location problem\n",
    "def compute_total_cost(flows, distances, costs):\n",
    "    n = len(flows)  # Number of facilities\n",
    "    total_cost = 0\n",
    "    for i in range(n):\n",
    "        for j in range(n):\n",
    "            fij = flows[i][j]  # Flow between facility i and j\n",
    "            dij = distances[i][j]  # Distance between facility i and j\n",
    "            cij = costs[i][j]  # Cost coefficient between facility i and j\n",
    "            total_cost += fij * dij * cij\n",
    "    return total_cost\n",
    "\n",
    "# Objective function helpers\n",
    "def manhattan_distance(p1, p2):\n",
    "    return abs(p1[0] - p2[0]) + abs(p1[1] - p2[1])\n",
    "\n",
    "# Input matrices based on the provided tables\n",
    "flows = [\n",
    "    [0, 25, 30, 5, 20, 3, 4, 0, 0],  # From A\n",
    "    [0, 0, 0, 0, 0, 0, 0, 0, 0],   \n",
    "    [0, 0, 0, 0, 0, 0, 0, 0, 0],     # Placeholder for other rows\n",
    "    [0, 0, 0, 0, 0, 0, 0, 0, 0],\n",
    "    [0, 0, 0, 0, 0, 0, 0, 0, 0],\n",
    "    [0, 0, 0, 0, 0, 0, 0, 0, 0],\n",
    "    [0, 0, 0, 0, 0, 0, 0, 0, 0],\n",
    "    [15, 0, 0, 0, 0, 0, 0, 0, 0],        # From H\n",
    "    [0, 0, 0, 0, 0, 0, 0, 0, 0]\n",
    "]\n",
    "\n",
    "distances = [\n",
    "    [0, 23.5, 31, 31.5, 38, 15.5, 38, 19.5, 31.5],  # From A\n",
    "    [23.5, 0, 8.5, 25, 31.5, 39, 61.5, 43, 55],     # From B\n",
    "    [31, 8.5, 0, 16.5, 23, 30.5, 53, 41.5, 46.5],   # From C\n",
    "    [31.5, 25, 16.5, 0, 6.5, 23, 36.5, 42, 30],     # From D\n",
    "    [38, 31.5, 23, 6.5, 0, 29.5, 30, 48.5, 36.5],   # From E\n",
    "    [15.5, 39, 30.5, 23, 29.5, 0, 22.5, 19, 16],    # From F\n",
    "    [38, 61.5, 53, 36.5, 30, 22.5, 0, 18.5, 6.5],   # From G\n",
    "    [19.5, 43, 41.5, 42, 48.5, 19, 18.5, 0, 12],    # From H\n",
    "    [31.5, 55, 46.5, 30, 36.5, 16, 6.5, 12, 0]      # From I\n",
    "]\n",
    "\n",
    "costs = [\n",
    "    [0, 1612500, 1867500, 315000, 1455000, 85500, 111000, 0, 0],  # From A\n",
    "    [0, 0, 0, 0, 0, 0, 0, 0, 0],                            \n",
    "    [0, 0, 0, 0, 0, 0, 0, 0, 0],                                 # Placeholder for other rows\n",
    "    [0, 0, 0, 0, 0, 0, 0, 0, 0],\n",
    "    [0, 0, 0, 0, 0, 0, 0, 0, 0],\n",
    "    [0, 0, 0, 0, 0, 0, 0, 0, 0],\n",
    "    [0, 0, 0, 0, 0, 0, 0, 0, 0],\n",
    "    [438750, 0, 0, 0, 0, 0, 0, 0, 0],                           # From H\n",
    "    [0, 0, 0, 0, 0, 0, 0, 0, 0]\n",
    "]\n",
    "\n",
    "# Calculate total cost\n",
    "total_cost_result = compute_total_cost(flows, distances, costs)\n",
    "print(\"Total Cost:\", total_cost_result)"
   ]
  },
  {
   "cell_type": "markdown",
   "id": "7420aaa8",
   "metadata": {},
   "source": [
    "SELECTION"
   ]
  },
  {
   "cell_type": "code",
   "execution_count": 6,
   "id": "6189a8a9",
   "metadata": {},
   "outputs": [
    {
     "data": {
      "text/plain": [
       "[(['D', 'A', 'F', 'H', 'B', 'G', 'I', 'E', 'C'], 2248927500),\n",
       " (['C', 'B', 'F', 'E', 'I', 'G', 'D', 'H', 'A'], 1869885000),\n",
       " (['E', 'H', 'D', 'B', 'F', 'A', 'C', 'G', 'I'], 1884697500),\n",
       " (['D', 'A', 'F', 'H', 'B', 'G', 'I', 'E', 'C'], 2248927500),\n",
       " (['D', 'A', 'F', 'H', 'B', 'G', 'I', 'E', 'C'], 2248927500)]"
      ]
     },
     "execution_count": 6,
     "metadata": {},
     "output_type": "execute_result"
    }
   ],
   "source": [
    "# Re-import needed libraries after reset\n",
    "import random\n",
    "\n",
    "# Facility list\n",
    "facility_labels = [\"A\", \"B\", \"C\", \"D\", \"E\", \"F\", \"G\", \"H\", \"I\"]\n",
    "\n",
    "# Facility positions (mock slicing coordinates)\n",
    "facility_positions = {\n",
    "    \"A\": (5, 15), \"B\": (15, 15), \"C\": (25, 15),\n",
    "    \"D\": (5, 5), \"E\": (15, 5), \"F\": (25, 5),\n",
    "    \"G\": (35, 15), \"H\": (35, 5), \"I\": (45, 10)\n",
    "}\n",
    "\n",
    "# Flow matrix (fij)\n",
    "flows = [\n",
    "    [0, 25, 30, 5, 20, 3, 4, 0, 0],  # From A\n",
    "    [0, 0, 0, 0, 0, 0, 0, 0, 0],   \n",
    "    [0, 0, 0, 0, 0, 0, 0, 0, 0],     # Placeholder for other rows\n",
    "    [0, 0, 0, 0, 0, 0, 0, 0, 0],\n",
    "    [0, 0, 0, 0, 0, 0, 0, 0, 0],\n",
    "    [0, 0, 0, 0, 0, 0, 0, 0, 0],\n",
    "    [0, 0, 0, 0, 0, 0, 0, 0, 0],\n",
    "    [15, 0, 0, 0, 0, 0, 0, 0, 0],        # From H\n",
    "    [0, 0, 0, 0, 0, 0, 0, 0, 0]\n",
    "]\n",
    "\n",
    "# Distance matrix (dij)\n",
    "distances = [\n",
    "    [0, 23.5, 31, 31.5, 38, 15.5, 38, 19.5, 31.5],  # From A\n",
    "    [23.5, 0, 8.5, 25, 31.5, 39, 61.5, 43, 55],     # From B\n",
    "    [31, 8.5, 0, 16.5, 23, 30.5, 53, 41.5, 46.5],   # From C\n",
    "    [31.5, 25, 16.5, 0, 6.5, 23, 36.5, 42, 30],     # From D\n",
    "    [38, 31.5, 23, 6.5, 0, 29.5, 30, 48.5, 36.5],   # From E\n",
    "    [15.5, 39, 30.5, 23, 29.5, 0, 22.5, 19, 16],    # From F\n",
    "    [38, 61.5, 53, 36.5, 30, 22.5, 0, 18.5, 6.5],   # From G\n",
    "    [19.5, 43, 41.5, 42, 48.5, 19, 18.5, 0, 12],    # From H\n",
    "    [31.5, 55, 46.5, 30, 36.5, 16, 6.5, 12, 0]      # From I\n",
    "]\n",
    "\n",
    "\n",
    "# Cost matrix (cij)\n",
    "costs = [\n",
    "    [0, 1612500, 1867500, 315000, 1455000, 85500, 111000, 0, 0],  # From A\n",
    "    [0, 0, 0, 0, 0, 0, 0, 0, 0],                            \n",
    "    [0, 0, 0, 0, 0, 0, 0, 0, 0],                                 # Placeholder for other rows\n",
    "    [0, 0, 0, 0, 0, 0, 0, 0, 0],\n",
    "    [0, 0, 0, 0, 0, 0, 0, 0, 0],\n",
    "    [0, 0, 0, 0, 0, 0, 0, 0, 0],\n",
    "    [0, 0, 0, 0, 0, 0, 0, 0, 0],\n",
    "    [438750, 0, 0, 0, 0, 0, 0, 0, 0],                           # From H\n",
    "    [0, 0, 0, 0, 0, 0, 0, 0, 0]\n",
    "]\n",
    "# Objective function helpers\n",
    "def manhattan_distance(p1, p2):\n",
    "    return abs(p1[0] - p2[0]) + abs(p1[1] - p2[1])\n",
    "\n",
    "def compute_total_handling_cost(facility_positions, flows, costs, facility_order):\n",
    "    total_cost = 0\n",
    "    for i, fi in enumerate(facility_order):\n",
    "        for j, fj in enumerate(facility_order):\n",
    "            if i != j:\n",
    "                d_ij = manhattan_distance(facility_positions[fi], facility_positions[fj])\n",
    "                total_cost += flows[i][j] * d_ij * costs[i][j]\n",
    "    return total_cost\n",
    "\n",
    "# Generate initial random population\n",
    "def generate_random_population(facilities, population_size=10):\n",
    "    population = []\n",
    "    for _ in range(population_size):\n",
    "        chromosome = facilities[:]\n",
    "        random.shuffle(chromosome)\n",
    "        population.append(chromosome)\n",
    "    return population\n",
    "\n",
    "initial_population = generate_random_population(facility_labels, 10)\n",
    "\n",
    "# Compute fitness for each chromosome\n",
    "fitness_scores = [\n",
    "    (chromosome, compute_total_handling_cost(facility_positions, flows, costs, chromosome))\n",
    "    for chromosome in initial_population\n",
    "]\n",
    "\n",
    "# Tournament selection\n",
    "def tournament_selection(population, fitnesses, tournament_size=3, num_selected=5):\n",
    "    selected = []\n",
    "    for _ in range(num_selected):\n",
    "        contenders = random.sample(list(zip(population, fitnesses)), tournament_size)\n",
    "        winner = min(contenders, key=lambda x: x[1])\n",
    "        selected.append(winner)\n",
    "    return selected\n",
    "\n",
    "population = [chrom for chrom, _ in fitness_scores]\n",
    "fitness_values = [score for _, score in fitness_scores]\n",
    "\n",
    "selected_for_mating = tournament_selection(population, fitness_values, tournament_size=3, num_selected=5)\n",
    "selected_for_mating\n"
   ]
  },
  {
   "cell_type": "markdown",
   "id": "92384f7f",
   "metadata": {},
   "source": [
    "CROSSOVER"
   ]
  },
  {
   "cell_type": "code",
   "execution_count": 8,
   "id": "4c4858e3",
   "metadata": {},
   "outputs": [
    {
     "name": "stdout",
     "output_type": "stream",
     "text": [
      "Offspring 1: ['C', 'F', 'E', 'A', 'H', 'D', 'G', 'B']\n",
      "Offspring 2: ['F', 'E', 'C', 'A', 'H', 'D', 'B', 'G']\n",
      "Offspring 3: ['F', 'A', 'G', 'C', 'H', 'B', 'D', 'E']\n",
      "Offspring 4: ['C', 'D', 'G', 'H', 'A', 'B', 'E', 'F']\n",
      "Offspring 5: ['E', 'C', 'G', 'D', 'F', 'B', 'A', 'H']\n",
      "Offspring 6: ['E', 'C', 'D', 'G', 'A', 'F', 'B', 'H']\n",
      "Offspring 7: ['E', 'G', 'B', 'C', 'H', 'D', 'F', 'A']\n",
      "Offspring 8: ['E', 'G', 'B', 'C', 'H', 'F', 'D', 'A']\n",
      "Offspring 9: ['G', 'A', 'H', 'E', 'D', 'B', 'C', 'F']\n",
      "Offspring 10: ['F', 'A', 'G', 'D', 'H', 'E', 'B', 'C']\n"
     ]
    }
   ],
   "source": [
    "import random\n",
    "\n",
    "# Sample parent pool (20 selected layouts from Step 2)\n",
    "selected_layouts = [\n",
    "    ['E', 'C', 'G', 'D', 'A', 'F', 'B', 'H'],\n",
    "    ['C', 'D', 'G', 'B', 'E', 'F', 'A', 'H'],\n",
    "    ['E', 'C', 'B', 'H', 'D', 'G', 'F', 'A'],\n",
    "    ['E', 'H', 'F', 'B', 'A', 'C', 'G', 'D'],\n",
    "    ['A', 'E', 'F', 'C', 'H', 'B', 'D', 'G'],\n",
    "    ['E', 'D', 'H', 'C', 'A', 'G', 'F', 'B'],\n",
    "    ['F', 'A', 'C', 'G', 'B', 'E', 'D', 'H'],\n",
    "    ['C', 'D', 'E', 'G', 'B', 'F', 'H', 'A'],\n",
    "    ['G', 'F', 'D', 'A', 'H', 'E', 'B', 'C'],\n",
    "    ['A', 'H', 'G', 'E', 'D', 'B', 'C', 'F'],\n",
    "    ['F', 'C', 'D', 'H', 'A', 'B', 'G', 'E'],\n",
    "    ['F', 'E', 'C', 'A', 'H', 'D', 'G', 'B'],\n",
    "    ['E', 'A', 'C', 'F', 'G', 'H', 'B', 'D'],\n",
    "    ['C', 'H', 'F', 'G', 'A', 'B', 'E', 'D'],\n",
    "    ['E', 'G', 'B', 'C', 'H', 'F', 'D', 'A'],\n",
    "    ['A', 'C', 'F', 'G', 'B', 'H', 'D', 'E'],\n",
    "    ['B', 'D', 'E', 'C', 'A', 'H', 'F', 'G'],\n",
    "    ['G', 'F', 'E', 'A', 'H', 'D', 'B', 'C'],\n",
    "    ['D', 'H', 'C', 'A', 'F', 'G', 'E', 'B'],\n",
    "    ['B', 'C', 'A', 'G', 'F', 'H', 'D', 'E']\n",
    "]\n",
    "\n",
    "# Function to perform Order Crossover\n",
    "def order_crossover(parent1, parent2):\n",
    "    size = len(parent1)\n",
    "    a, b = sorted(random.sample(range(size), 2))\n",
    "    \n",
    "    # Step 1: Copy the slice from Parent1\n",
    "    child = [None] * size\n",
    "    child[a:b+1] = parent1[a:b+1]\n",
    "\n",
    "    # Step 2: Fill the rest from Parent2 in order\n",
    "    p2_remaining = [gene for gene in parent2 if gene not in child]\n",
    "    index = 0\n",
    "    for i in range(size):\n",
    "        if child[i] is None:\n",
    "            child[i] = p2_remaining[index]\n",
    "            index += 1\n",
    "\n",
    "    return child\n",
    "\n",
    "# Shuffle and pair parents\n",
    "random.shuffle(selected_layouts)\n",
    "offspring_layouts = []\n",
    "\n",
    "# Generate 10 offspring (5 pairs)\n",
    "for i in range(0, 10, 1):\n",
    "    parent1 = selected_layouts[i]\n",
    "    parent2 = selected_layouts[i+1]\n",
    "    child = order_crossover(parent1, parent2)\n",
    "    offspring_layouts.append(child)\n",
    "\n",
    "# Display offspring\n",
    "for idx, layout in enumerate(offspring_layouts, 1):\n",
    "    print(f\"Offspring {idx}: {layout}\")\n"
   ]
  },
  {
   "cell_type": "markdown",
   "id": "bbd23a14",
   "metadata": {},
   "source": [
    "MUTATION"
   ]
  },
  {
   "cell_type": "code",
   "execution_count": 12,
   "id": "b1527fba",
   "metadata": {},
   "outputs": [
    {
     "name": "stdout",
     "output_type": "stream",
     "text": [
      "Mutated Offspring 1: ['C', 'F', 'E', 'A', 'H', 'D', 'G', 'B']\n",
      "Mutated Offspring 2: ['F', 'E', 'B', 'A', 'H', 'D', 'C', 'G']\n",
      "Mutated Offspring 3: ['F', 'A', 'G', 'C', 'H', 'B', 'D', 'E']\n",
      "Mutated Offspring 4: ['C', 'D', 'G', 'H', 'A', 'B', 'E', 'F']\n",
      "Mutated Offspring 5: ['E', 'C', 'G', 'D', 'F', 'B', 'A', 'H']\n",
      "Mutated Offspring 6: ['E', 'C', 'D', 'G', 'A', 'F', 'B', 'H']\n",
      "Mutated Offspring 7: ['E', 'G', 'B', 'C', 'H', 'D', 'F', 'A']\n",
      "Mutated Offspring 8: ['E', 'G', 'B', 'C', 'H', 'F', 'D', 'A']\n",
      "Mutated Offspring 9: ['G', 'A', 'H', 'E', 'D', 'B', 'C', 'F']\n",
      "Mutated Offspring 10: ['F', 'A', 'G', 'D', 'H', 'E', 'B', 'C']\n"
     ]
    }
   ],
   "source": [
    "import random\n",
    "\n",
    "# Assume `offspring_layouts` contains the 10 offspring from the crossover step\n",
    "# Example:\n",
    "# offspring_layouts = [\n",
    "#     ['A', 'B', 'C', 'D', 'E', 'F', 'G', 'H'],\n",
    "#     ...\n",
    "# ]\n",
    "\n",
    "def swap_mutation(chromosome, mutation_rate=0.2):\n",
    "    mutated = chromosome.copy()\n",
    "    if random.random() < mutation_rate:\n",
    "        i, j = random.sample(range(len(mutated)), 2)\n",
    "        mutated[i], mutated[j] = mutated[j], mutated[i]\n",
    "    return mutated\n",
    "\n",
    "# Apply mutation to all offspring\n",
    "mutated_offspring = [swap_mutation(child) for child in offspring_layouts]\n",
    "\n",
    "# Display mutated results\n",
    "for idx, layout in enumerate(mutated_offspring, 1):\n",
    "    print(f\"Mutated Offspring {idx}: {layout}\")\n"
   ]
  },
  {
   "cell_type": "markdown",
   "id": "2a9b4056",
   "metadata": {},
   "source": [
    "STAGE 5:EVALUATION AND REPLACEMENT"
   ]
  },
  {
   "cell_type": "code",
   "execution_count": null,
   "id": "b50006f7",
   "metadata": {},
   "outputs": [],
   "source": [
    "#the code here"
   ]
  },
  {
   "cell_type": "markdown",
   "id": "4071d153",
   "metadata": {},
   "source": [
    "intergration with the slicing method"
   ]
  },
  {
   "cell_type": "code",
   "execution_count": 1,
   "id": "bc55257d",
   "metadata": {},
   "outputs": [
    {
     "name": "stdout",
     "output_type": "stream",
     "text": [
      "Facility Sequence: ['B', 'D', 'C', 'E', 'F', 'I', 'G', 'A', 'H']\n",
      "Slicing Directions: ['V', 'H', 'H', 'H', 'V', 'V', 'H', 'V']\n"
     ]
    }
   ],
   "source": [
    "import random\n",
    "\n",
    "def generate_random_slicing_chromosome(facilities):\n",
    "    \"\"\"\n",
    "    Generates a random slicing chromosome consisting of:\n",
    "    - A random permutation of facilities\n",
    "    - A corresponding list of random slicing directions ('H' or 'V')\n",
    "\n",
    "    Returns:\n",
    "    - (facility_sequence, slicing_directions)\n",
    "    \"\"\"\n",
    "    # Random facility order\n",
    "    facility_sequence = facilities[:]\n",
    "    random.shuffle(facility_sequence)\n",
    "\n",
    "    # Random slicing directions: one fewer than the number of facilities\n",
    "    slicing_directions = [random.choice(['H', 'V']) for _ in range(len(facilities) - 1)]\n",
    "\n",
    "    return facility_sequence, slicing_directions\n",
    "\n",
    "# Example: 9 facilities\n",
    "facilities = ['A', 'B', 'C', 'D', 'E', 'F', 'G', 'H', 'I']\n",
    "fac_seq, cut_seq = generate_random_slicing_chromosome(facilities)\n",
    "\n",
    "print(\"Facility Sequence:\", fac_seq)\n",
    "print(\"Slicing Directions:\", cut_seq)\n"
   ]
  },
  {
   "cell_type": "markdown",
   "id": "d03520ba",
   "metadata": {},
   "source": [
    "draw"
   ]
  },
  {
   "cell_type": "code",
   "execution_count": 2,
   "id": "68207687",
   "metadata": {},
   "outputs": [
    {
     "name": "stderr",
     "output_type": "stream",
     "text": [
      "Matplotlib is building the font cache; this may take a moment.\n"
     ]
    },
    {
     "data": {
      "image/png": "[encoded data removed]",
      "text/plain": [
       "<Figure size 1000x1000 with 1 Axes>"
      ]
     },
     "metadata": {},
     "output_type": "display_data"
    }
   ],
   "source": [
    "import matplotlib.pyplot as plt\n",
    "import matplotlib.patches as patches\n",
    "\n",
    "# Facility and slicing input\n",
    "facilities = ['D', 'A', 'H', 'B', 'E', 'F', 'I', 'C', 'G']\n",
    "slicing_directions = ['H', 'V', 'V', 'H', 'H', 'V', 'V', 'H']  # 8 cuts for 9 facilities\n",
    "\n",
    "layout_width = 100\n",
    "layout_height = 100\n",
    "\n",
    "def recursive_slicing(x, y, width, height, facilities, cuts, cut_index=0):\n",
    "    if len(facilities) == 1:\n",
    "        return [(facilities[0], (x, y, width, height))]\n",
    "\n",
    "    cut = cuts[cut_index]\n",
    "    mid = len(facilities) // 2\n",
    "    left = facilities[:mid]\n",
    "    right = facilities[mid:]\n",
    "\n",
    "    result = []\n",
    "    if cut == 'H':\n",
    "        h1 = height / 2\n",
    "        result += recursive_slicing(x, y + h1, width, h1, left, cuts, cut_index + 1)\n",
    "        result += recursive_slicing(x, y, width, h1, right, cuts, cut_index + 1 + len(left) - 1)\n",
    "    else:  # 'V'\n",
    "        w1 = width / 2\n",
    "        result += recursive_slicing(x, y, w1, height, left, cuts, cut_index + 1)\n",
    "        result += recursive_slicing(x + w1, y, w1, height, right, cuts, cut_index + 1 + len(left) - 1)\n",
    "\n",
    "    return result\n",
    "\n",
    "# Generate positions\n",
    "facility_positions = recursive_slicing(0, 0, layout_width, layout_height, facilities, slicing_directions)\n",
    "\n",
    "# Plot\n",
    "fig, ax = plt.subplots(figsize=(10, 10))\n",
    "for name, (x, y, w, h) in facility_positions:\n",
    "    ax.add_patch(patches.Rectangle((x, y), w, h, edgecolor='black', facecolor='skyblue'))\n",
    "    ax.text(x + w / 2, y + h / 2, name, ha='center', va='center', fontsize=12, weight='bold')\n",
    "\n",
    "ax.set_xlim(0, layout_width)\n",
    "ax.set_ylim(0, layout_height)\n",
    "ax.set_title(\"Slicing Layout for Facilities\")\n",
    "ax.set_aspect('equal')\n",
    "plt.grid(True)\n",
    "plt.show()\n"
   ]
  },
  {
   "cell_type": "code",
   "execution_count": 4,
   "id": "d15af539",
   "metadata": {},
   "outputs": [
    {
     "data": {
      "image/png": "[encoded data removed]",
      "text/plain": [
       "<Figure size 1000x1000 with 1 Axes>"
      ]
     },
     "metadata": {},
     "output_type": "display_data"
    }
   ],
   "source": [
    "import matplotlib.pyplot as plt\n",
    "import matplotlib.patches as patches\n",
    "\n",
    "# Facility and slicing input\n",
    "facilities = ['D', 'A', 'H', 'B', 'E', 'F', 'I', 'C', 'G']\n",
    "slicing_directions = ['H', 'V', 'V', 'H', 'H', 'V', 'V', 'H']  # 8 cuts for 9 facilities\n",
    "\n",
    "# Actual width × length (W × L) for area computation\n",
    "facility_dimensions = {\n",
    "    'A': (8, 16),   # W×L = 128\n",
    "    'B': (7, 30),   # 210\n",
    "    'C': (10, 30),  # 300\n",
    "    'D': (7, 46),   # 322\n",
    "    'E': (6, 46),   # 276\n",
    "    'F': (16, 9),   # 144\n",
    "    'G': (6, 14),   # 84\n",
    "    'H': (17, 14),  # 238\n",
    "    'I': (7, 14)    # 98\n",
    "}\n",
    "\n",
    "# Layout canvas dimensions\n",
    "layout_width = 30\n",
    "layout_height = 60\n",
    "\n",
    "def recursive_slicing_weighted(x, y, width, height, facilities, cuts, cut_index=0):\n",
    "    if len(facilities) == 1:\n",
    "        return [(facilities[0], (x, y, width, height))]\n",
    "\n",
    "    cut = cuts[cut_index]\n",
    "    mid = len(facilities) // 2\n",
    "    left = facilities[:mid]\n",
    "    right = facilities[mid:]\n",
    "\n",
    "    # Calculate proportional area\n",
    "    left_area = sum(facility_dimensions[f][0] * facility_dimensions[f][1] for f in left)\n",
    "    right_area = sum(facility_dimensions[f][0] * facility_dimensions[f][1] for f in right)\n",
    "    total_area = left_area + right_area\n",
    "\n",
    "    result = []\n",
    "    if cut == 'H':\n",
    "        h1 = height * (left_area / total_area)\n",
    "        result += recursive_slicing_weighted(x, y + (height - h1), width, h1, left, cuts, cut_index + 1)\n",
    "        result += recursive_slicing_weighted(x, y, width, height - h1, right, cuts, cut_index + 1 + len(left) - 1)\n",
    "    else:  # 'V'\n",
    "        w1 = width * (left_area / total_area)\n",
    "        result += recursive_slicing_weighted(x, y, w1, height, left, cuts, cut_index + 1)\n",
    "        result += recursive_slicing_weighted(x + w1, y, width - w1, height, right, cuts, cut_index + 1 + len(left) - 1)\n",
    "\n",
    "    return result\n",
    "\n",
    "# Generate facility positions\n",
    "facility_positions = recursive_slicing_weighted(0, 0, layout_width, layout_height, facilities, slicing_directions)\n",
    "\n",
    "# Plot the layout\n",
    "fig, ax = plt.subplots(figsize=(10, 10))\n",
    "for name, (x, y, w, h) in facility_positions:\n",
    "    ax.add_patch(patches.Rectangle((x, y), w, h, edgecolor='black', facecolor='skyblue'))\n",
    "    ax.text(x + w / 2, y + h / 2, name, ha='center', va='center', fontsize=12, weight='bold')\n",
    "\n",
    "ax.set_xlim(0, layout_width)\n",
    "ax.set_ylim(0, layout_height)\n",
    "ax.set_title(\"Slicing Layout for Facilities (Proportional by Area)\")\n",
    "ax.set_aspect('equal')\n",
    "plt.grid(True)\n",
    "plt.show()\n"
   ]
  }
 ],
 "metadata": {
  "kernelspec": {
   "display_name": "Python 3",
   "language": "python",
   "name": "python3"
  },
  "language_info": {
   "codemirror_mode": {
    "name": "ipython",
    "version": 3
   },
   "file_extension": ".py",
   "mimetype": "text/x-python",
   "name": "python",
   "nbconvert_exporter": "python",
   "pygments_lexer": "ipython3",
   "version": "3.13.3"
  }
 },
 "nbformat": 4,
 "nbformat_minor": 5
}
